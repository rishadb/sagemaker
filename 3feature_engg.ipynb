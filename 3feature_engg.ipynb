{
 "cells": [
  {
   "cell_type": "markdown",
   "id": "e4f76cec-e867-4e51-af85-e5eddfec071d",
   "metadata": {},
   "source": [
    "# Feature transformation with Amazon SageMaker processing job and Feature Store\n",
    "\n",
    "convert the original review text into machine-readable features used by BERT: configure an Amazon SageMaker processing job, which will be running a custom Python script.\n"
   ]
  },
  {
   "cell_type": "code",
   "execution_count": null,
   "id": "354fa635-a9c7-49fa-a657-31489de1c735",
   "metadata": {},
   "outputs": [],
   "source": [
    "# please ignore warning messages during the installation\n",
    "!pip install --disable-pip-version-check -q sagemaker==2.35.0\n",
    "!conda install -q -y pytorch==1.6.0 -c pytorch\n",
    "!pip install --disable-pip-version-check -q transformers==3.5.1\n",
    "\n",
    "import boto3\n",
    "import sagemaker\n",
    "import botocore\n",
    "\n",
    "config = botocore.config.Config(user_agent_extra='dlai-pds/c2/w1')\n",
    "\n",
    "# low-level service client of the boto3 session\n",
    "sm = boto3.client(service_name='sagemaker', config=config)\n",
    "featurestore_runtime = boto3.client(service_name='sagemaker-featurestore-runtime', config=config)\n",
    "sess = sagemaker.Session(sagemaker_client=sm, sagemaker_featurestore_runtime_client=featurestore_runtime)\n",
    "\n",
    "bucket = sess.default_bucket()\n",
    "role = sagemaker.get_execution_role()\n",
    "region = sess.boto_region_name"
   ]
  },
  {
   "cell_type": "markdown",
   "id": "6bbc9964-28ce-4db0-baf1-69907081ad01",
   "metadata": {},
   "source": [
    "## Configure the SageMaker Feature Store"
   ]
  },
  {
   "cell_type": "code",
   "execution_count": null,
   "id": "993d9f9d-7c6e-4637-8202-14afe4f27270",
   "metadata": {},
   "outputs": [],
   "source": [
    "#configure a SageMaker processing job to run a custom Python script to balance and transform the raw data into a format used by BERT model.\n",
    "#To balance and transform our data, you will use a scikit-learn-based processing job.use a scikit-learn-based processing job. This is essentially a generic Python processing job with scikit-learn pre-installed.\n",
    "\n",
    "#DEFINE AND RUN THE PROCESSING JOB\n",
    "\n",
    "#arguments\n",
    "import time\n",
    "raw_input_data_s3_uri = 's3://dlai-practical-data-science/data/raw/'\n",
    "timestamp = int(time.time())\n",
    "feature_group_name = 'reviews-feature-group-' + str(timestamp) #FEATURE GROUP: To configure a Feature Store you need to setup a Feature Group. This is the main resource containing all of the metadata related to the data stored in the Feature Store. A Feature Group should contain a list of Feature Definitions. A Feature Definition consists of a name and the data type. The Feature Group also contains an online store configuration and an offline store configuration controlling where the data is stored. Enabling the online store allows quick access to the latest value for a record via the GetRecord API. The offline store allows storage of the data in your S3 bucket. You will be using the offline store in this lab.\n",
    "feature_store_offline_prefix = 'reviews-feature-store-' + str(timestamp) #As the result of the transformation, in addition to generating files in S3 bucket, you will also save the transformed data in the Amazon SageMaker Feature Store to be used by others in your organization, for example.\n",
    "processing_instance_type='ml.c5.xlarge'\n",
    "processing_instance_count=1\n",
    "train_split_percentage=0.90\n",
    "validation_split_percentage=0.05\n",
    "test_split_percentage=0.05\n",
    "balance_dataset=True\n",
    "max_seq_length=128 #max_seq_length, which specifies the maximum length of the classified reviews for the RoBERTa model. If the sentence is shorter than the maximum length parameter, it will be padded. In another case, when the sentence is longer, it will be truncated from the right side. Since a smaller max_seq_length leads to faster training and lower resource utilization, you want to find the smallest power-of-2 that captures 100% of our reviews. For this dataset, the 100th percentile is 115. However, it's best to stick with powers-of-2 when using BERT.\n",
    "\n",
    "#define and run the process\n",
    "from sagemaker.sklearn.processing import SKLearnProcessor\n",
    "processor = SKLearnProcessor(framework_version='0.23-1',role=role, instance_type= 'ml.c5.xlarge', \n",
    "            instance_count=1,env={'AWS_DEFAULT_REGION': region}, max_runtime_in_seconds=7200)\n",
    "\n",
    "from sagemaker.processing import ProcessingInput, ProcessingOutput\n",
    "\n",
    "processor.run(code='./c2w1/src/prepare_data.py',\n",
    "          inputs=[\n",
    "                ProcessingInput(source=raw_input_data_s3_uri,\n",
    "                                destination='/opt/ml/processing/input/data/', s3_data_distribution_type='ShardedByS3Key')],\n",
    "          outputs=[\n",
    "                ProcessingOutput(output_name='sentiment-train', source='/opt/ml/processing/output/sentiment/train', s3_upload_mode='EndOfJob'),\n",
    "                ProcessingOutput(output_name='sentiment-validation', source='/opt/ml/processing/output/sentiment/validation', s3_upload_mode='EndOfJob'),\n",
    "                ProcessingOutput(output_name='sentiment-test', source='/opt/ml/processing/output/sentiment/test', s3_upload_mode='EndOfJob')],\n",
    "          arguments=['--train-split-percentage', str(train_split_percentage),\n",
    "                     '--validation-split-percentage', str(validation_split_percentage),\n",
    "                     '--test-split-percentage', str(test_split_percentage),\n",
    "                     '--balance-dataset', str(balance_dataset),\n",
    "                     '--max-seq-length', str(max_seq_length),                         \n",
    "                     '--feature-store-offline-prefix', str(feature_store_offline_prefix),\n",
    "                     '--feature-group-name', str(feature_group_name)], logs=True, wait=False)    "
   ]
  },
  {
   "cell_type": "code",
   "execution_count": 26,
   "id": "13985775-d77c-4f09-a349-ebdaffa2d0c7",
   "metadata": {},
   "outputs": [
    {
     "name": "stdout",
     "output_type": "stream",
     "text": [
      "dict_keys(['ProcessingInputs', 'ProcessingOutputConfig', 'ProcessingJobName', 'ProcessingResources', 'StoppingCondition', 'AppSpecification', 'Environment', 'RoleArn', 'ProcessingJobArn', 'ProcessingJobStatus', 'ProcessingStartTime', 'LastModifiedTime', 'CreationTime', 'ResponseMetadata'])\n",
      "Processing job status: InProgress\n"
     ]
    },
    {
     "data": {
      "text/html": [
       "<b>Review <a target=\"blank\" href=\"https://console.aws.amazon.com/sagemaker/home?region=us-east-1#/processing-jobs/sagemaker-scikit-learn-2022-07-26-06-44-43-422\">processing job</a></b>"
      ],
      "text/plain": [
       "<IPython.core.display.HTML object>"
      ]
     },
     "metadata": {},
     "output_type": "display_data"
    }
   ],
   "source": [
    "#You can see the information about the processing jobs using the `describe` function. The result is in dictionary format.\n",
    "print(processor.jobs[-1].describe().keys())\n",
    "scikit_processing_job_name = processor.jobs[-1].describe()['ProcessingJobName']\n",
    "scikit_processing_job_status = processor.jobs[-1].describe()['ProcessingJobStatus']\n",
    "print('Processing job status: {}'.format(scikit_processing_job_status))\n",
    "\n",
    "#Review the created processing job in the AWS console.\n",
    "\n",
    "from IPython.core.display import display, HTML\n",
    "display(HTML('<b>Review <a target=\"blank\" href=\"https://console.aws.amazon.com/sagemaker/home?region={}#/processing-jobs/{}\">processing job</a></b>'.format(region, scikit_processing_job_name)))"
   ]
  },
  {
   "cell_type": "code",
   "execution_count": 27,
   "id": "00f4952c-f90e-41e4-8f67-dbd254157a0b",
   "metadata": {},
   "outputs": [
    {
     "data": {
      "text/html": [
       "<b>Review <a target=\"blank\" href=\"https://s3.console.aws.amazon.com/s3/buckets/sagemaker-us-east-1-170235698766/sagemaker-scikit-learn-2022-07-26-06-44-43-422/?region=us-east-1&tab=overview\">S3 output data</a> after the processing job has completed</b>"
      ],
      "text/plain": [
       "<IPython.core.display.HTML object>"
      ]
     },
     "metadata": {},
     "output_type": "display_data"
    },
    {
     "name": "stdout",
     "output_type": "stream",
     "text": [
      "....................................................!s3://sagemaker-us-east-1-170235698766/sagemaker-scikit-learn-2022-07-26-06-44-43-422/output/sentiment-train\n",
      "s3://sagemaker-us-east-1-170235698766/sagemaker-scikit-learn-2022-07-26-06-44-43-422/output/sentiment-validation\n",
      "s3://sagemaker-us-east-1-170235698766/sagemaker-scikit-learn-2022-07-26-06-44-43-422/output/sentiment-test\n"
     ]
    }
   ],
   "source": [
    "#After the completion of the processing job you can also review the output in the S3 bucket.\n",
    "display(HTML('<b>Review <a target=\"blank\" href=\"https://s3.console.aws.amazon.com/s3/buckets/{}/{}/?region={}&tab=overview\">S3 output data</a> after the processing job has completed</b>'.format(bucket, scikit_processing_job_name, region)))\n",
    "\n",
    "#Inspect the transformed and balanced data in the S3 bucket.\n",
    "#%%time\n",
    "running_processor = sagemaker.processing.ProcessingJob.from_processing_name(processing_job_name=scikit_processing_job_name, sagemaker_session=sess)\n",
    "running_processor.wait(logs=False) #Please wait until ^^ Processing Job ^^ completes above\n",
    "processing_job_description = running_processor.describe()\n",
    "\n",
    "output_config = processing_job_description['ProcessingOutputConfig']\n",
    "for output in output_config['Outputs']:\n",
    "    if output['OutputName'] == 'sentiment-train':\n",
    "        processed_train_data_s3_uri = output['S3Output']['S3Uri']\n",
    "    if output['OutputName'] == 'sentiment-validation':\n",
    "        processed_validation_data_s3_uri = output['S3Output']['S3Uri']\n",
    "    if output['OutputName'] == 'sentiment-test':\n",
    "        processed_test_data_s3_uri = output['S3Output']['S3Uri']\n",
    "        \n",
    "print(processed_train_data_s3_uri)\n",
    "print(processed_validation_data_s3_uri)\n",
    "print(processed_test_data_s3_uri)\n",
    "\n",
    "\n",
    "!aws s3 ls $processed_train_data_s3_uri/\n",
    "!aws s3 ls $processed_validation_data_s3_uri/\n",
    "!aws s3 ls $processed_test_data_s3_uri/\n",
    "\n",
    "!head -n 5 ./balanced/sentiment-train/part-algo-1-womens_clothing_ecommerce_reviews.tsv"
   ]
  },
  {
   "cell_type": "code",
   "execution_count": null,
   "id": "e367acf1-4114-430d-aaaf-adf45af9d5c6",
   "metadata": {},
   "outputs": [],
   "source": [
    "#Copy and review the data into the folder balanced.\n",
    "!aws s3 cp $processed_train_data_s3_uri/part-algo-1-womens_clothing_ecommerce_reviews.tsv ./c2w1/balanced/sentiment-train/\n",
    "!aws s3 cp $processed_validation_data_s3_uri/part-algo-1-womens_clothing_ecommerce_reviews.tsv ./c2w1/balanced/sentiment-validation/\n",
    "!aws s3 cp $processed_test_data_s3_uri/part-algo-1-womens_clothing_ecommerce_reviews.tsv ./c2w1/balanced/sentiment-test/\n",
    "\n",
    "!head -n 5 ./c2w1/balanced/sentiment-train/part-algo-1-womens_clothing_ecommerce_reviews.tsv\n",
    "!head -n 5 ./c2w1/balanced/sentiment-validation/part-algo-1-womens_clothing_ecommerce_reviews.tsv\n",
    "!head -n 5 ./c2w1/balanced/sentiment-test/part-algo-1-womens_clothing_ecommerce_reviews.tsv"
   ]
  },
  {
   "cell_type": "markdown",
   "id": "a3ce66a1-7146-4bd8-b5b2-53ed3f9a90d0",
   "metadata": {},
   "source": [
    "## Query the Feature Store\n",
    "###### In addition to transforming the data and saving in S3 bucket, the processing job populates the feature store with the transformed and balanced data. Let's query this data using Amazon Athena."
   ]
  },
  {
   "cell_type": "code",
   "execution_count": 40,
   "id": "24570eed-1117-43d2-99c5-e794bb90addb",
   "metadata": {},
   "outputs": [],
   "source": [
    "#this box can be found in the script also\n",
    "\n",
    "from sagemaker.feature_store.feature_definition import (FeatureDefinition,FeatureTypeEnum,)\n",
    "feature_definitions= [\n",
    "    # unique ID of the review\n",
    "    FeatureDefinition(feature_name='review_id', feature_type=FeatureTypeEnum.STRING), \n",
    "    # ingestion timestamp\n",
    "    FeatureDefinition(feature_name='date', feature_type=FeatureTypeEnum.STRING),\n",
    "    # sentiment: -1 (negative), 0 (neutral) or 1 (positive). It will be found the Rating values (1, 2, 3, 4, 5)\n",
    "    FeatureDefinition(feature_name='sentiment', feature_type=FeatureTypeEnum.STRING), \n",
    "    # label ID of the target class (sentiment)\n",
    "    FeatureDefinition(feature_name='label_id', feature_type=FeatureTypeEnum.STRING),\n",
    "    # reviews encoded with the BERT tokenizer\n",
    "    FeatureDefinition(feature_name='input_ids', feature_type=FeatureTypeEnum.STRING),\n",
    "    # original Review Text\n",
    "    FeatureDefinition(feature_name='review_body', feature_type=FeatureTypeEnum.STRING),\n",
    "    # train/validation/test label\n",
    "    FeatureDefinition(feature_name='split_type', feature_type=FeatureTypeEnum.STRING)]\n",
    "\n",
    "from sagemaker.feature_store.feature_group import FeatureGroup\n",
    "feature_group = FeatureGroup(name=feature_group_name, feature_definitions=feature_definitions,sagemaker_session=sess)"
   ]
  },
  {
   "cell_type": "code",
   "execution_count": null,
   "id": "b4261351-de48-4d58-b57a-4922d42eb047",
   "metadata": {},
   "outputs": [],
   "source": [
    "#Query the feature store.\n",
    "\n",
    "feature_store_query = feature_group.athena_query() # create an Athena query for the defined above Feature Group\n",
    "\n",
    "feature_store_table = feature_store_query.table_name #pull the table name of the Amazon Glue Data Catalog table which is auto-generated by Feature Store\n",
    "\n",
    "query_string = \"\"\"SELECT date, review_id, sentiment, label_id,input_ids,review_body FROM \"{}\" WHERE split_type='train' LIMIT 5\"\"\".format(feature_store_table)\n",
    "\n",
    "#Configure the S3 location for the query results. This allows us to re-use the query results for future queries if the data has not changed.\n",
    "output_s3_uri = 's3://{}/query_results/{}/'.format(bucket, feature_store_offline_prefix)\n",
    "\n",
    "feature_store_query.run(query_string=query_string, output_location=output_s3_uri)\n",
    "feature_store_query.wait()\n",
    "\n",
    "import pandas as pd\n",
    "pd.set_option(\"max_colwidth\", 100)\n",
    "df_feature_store = feature_store_query.as_dataframe()\n",
    "\n",
    "#Export CSV from Feature Store\n",
    "df_feature_store.to_csv('./feature_store_export.tsv',sep='\\t',index=False,header=True)\n",
    "!aws s3 cp ./feature_store_export.tsv s3://$bucket/feature_store/feature_store_export.tsv\n",
    "!aws s3 ls --recursive s3://$bucket/feature_store/feature_store_export.tsv"
   ]
  },
  {
   "cell_type": "code",
   "execution_count": 47,
   "id": "c9f50fc2-f48c-4e45-97cf-e4e5693b12ed",
   "metadata": {},
   "outputs": [
    {
     "data": {
      "text/plain": [
       "<AxesSubplot:xlabel='review_id', ylabel='sentiment'>"
      ]
     },
     "execution_count": 47,
     "metadata": {},
     "output_type": "execute_result"
    }
   ],
   "source": [
    "#Visualize the result of the query in the bar plot\n",
    "import seaborn as sns\n",
    "sns.barplot(data=df_feature_store, x=\"review_id\",y=\"sentiment\",color=\"blue\")"
   ]
  }
 ],
 "metadata": {
  "instance_type": "ml.t3.medium",
  "kernelspec": {
   "display_name": "Python 3 (Data Science)",
   "language": "python",
   "name": "python3__SAGEMAKER_INTERNAL__arn:aws:sagemaker:us-east-1:081325390199:image/datascience-1.0"
  },
  "language_info": {
   "codemirror_mode": {
    "name": "ipython",
    "version": 3
   },
   "file_extension": ".py",
   "mimetype": "text/x-python",
   "name": "python",
   "nbconvert_exporter": "python",
   "pygments_lexer": "ipython3",
   "version": "3.7.10"
  }
 },
 "nbformat": 4,
 "nbformat_minor": 5
}
