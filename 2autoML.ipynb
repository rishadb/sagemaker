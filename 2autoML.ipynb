{
 "cells": [
  {
   "cell_type": "markdown",
   "id": "b490eb1b-a5f9-4f4a-b3b2-1c49654a0317",
   "metadata": {},
   "source": [
    "# 3 Train a model with Amazon SageMaker Autopilot\n"
   ]
  },
  {
   "cell_type": "code",
   "execution_count": 5,
   "id": "4f118285-6151-4820-ad6f-f7d8df97121a",
   "metadata": {},
   "outputs": [
    {
     "name": "stdout",
     "output_type": "stream",
     "text": [
      "\u001b[33mWARNING: Running pip as the 'root' user can result in broken permissions and conflicting behaviour with the system package manager. It is recommended to use a virtual environment instead: https://pip.pypa.io/warnings/venv\u001b[0m\u001b[33m\n",
      "\u001b[0m"
     ]
    }
   ],
   "source": [
    "#Data analysis where the data is summarized and analyzed to determine which feature engineering techniques, hyper-parameters, and models to explore.\n",
    "#Feature engineering where the data is scrubbed, balanced, combined, and split into train and validation.\n",
    "#Model training and tuning where the top performing features, hyper-parameters, and models are selected and trained.\n",
    "\n",
    "!pip install --disable-pip-version-check -q sagemaker==2.35.0\n",
    "import boto3, sagemaker, pandas as pd, numpy as np, botocore, time, json, matplotlib.pyplot as plt\n",
    "\n",
    "%matplotlib inline\n",
    "%config InlineBackend.figure_format='retina'\n",
    "\n",
    "config = botocore.config.Config(user_agent_extra='dlai-pds/c1/w3')\n",
    "\n",
    "# low-level service client of the boto3 session\n",
    "sm = boto3.client(service_name='sagemaker', config=config); sm_runtime = boto3.client('sagemaker-runtime',config=config); sess = sagemaker.Session(sagemaker_client=sm, sagemaker_runtime_client=sm_runtime)\n",
    "bucket = sess.default_bucket(); role = sagemaker.get_execution_role(); region = sess.boto_region_name"
   ]
  },
  {
   "cell_type": "markdown",
   "id": "3179f621-6180-449a-a543-db6c75fd69f4",
   "metadata": {},
   "source": [
    "## Review transformed dataset\n"
   ]
  },
  {
   "cell_type": "code",
   "execution_count": 12,
   "id": "621f401f-83c8-4303-9758-c464a0ea2d59",
   "metadata": {},
   "outputs": [
    {
     "name": "stdout",
     "output_type": "stream",
     "text": [
      "download: s3://dlai-practical-data-science/data/balanced/womens_clothing_ecommerce_reviews_balanced.csv to c1w3/womens_clothing_ecommerce_reviews_balanced.csv\n",
      "2022-07-25 13:28:08    2253749 womens_clothing_ecommerce_reviews_balanced_for_autopilot.csv\n"
     ]
    }
   ],
   "source": [
    "# transform the dataset into a format that Autopilot recognizes. Specifically, a comma-separated file of label,features\n",
    "#Autopilot requires that the target variable is first and the set of features come next.\n",
    "\n",
    "#download, extract, \n",
    "!aws s3 cp 's3://dlai-practical-data-science/data/balanced/womens_clothing_ecommerce_reviews_balanced.csv' ./c1w3\n",
    "path = './c1w3/womens_clothing_ecommerce_reviews_balanced.csv'\n",
    "\n",
    "#extract features and save\n",
    "df = pd.read_csv(path, delimiter=',')\n",
    "path_autopilot = './c1w3/womens_clothing_ecommerce_reviews_balanced_for_autopilot.csv'\n",
    "df[['sentiment', 'review_body']].to_csv(path_autopilot, sep=',', index=False)\n",
    "\n",
    "#upload data to s3\n",
    "autopilot_train_s3_uri = sess.upload_data(bucket=bucket, key_prefix='autopilot/data', path=path_autopilot)\n",
    "!aws s3 ls $autopilot_train_s3_uri"
   ]
  },
  {
   "cell_type": "code",
   "execution_count": 16,
   "id": "97a54ee7-635b-42bb-b266-2cb864b5ac32",
   "metadata": {},
   "outputs": [],
   "source": [
    "#CONFIGURE AND RUN AUTOPILOT JOB\n",
    "\n",
    "#Set the S3 output path for the Autopilot outputs.\n",
    "model_output_s3_uri = 's3://{}/autopilot'.format(bucket)\n",
    "#Create the Autopilot job name.\n",
    "import time; timestamp = int(time.time()); auto_ml_job_name = 'automl-dm-{}'.format(timestamp)\n",
    "\n",
    "\n",
    "automl = sagemaker.automl.automl.AutoML(\n",
    "    target_attribute_name=\"sentiment\", # the name of the target attribute for predictions\n",
    "    base_job_name=auto_ml_job_name, # Autopilot job name\n",
    "    output_path=model_output_s3_uri, # output data path\n",
    "    max_candidates= 3, # maximum number of model candidates\n",
    "    sagemaker_session=sess, role=role,max_runtime_per_training_job_in_seconds=1200, total_job_runtime_in_seconds=7200)\n",
    "\n",
    "#run autopilot job\n",
    "automl.fit(\n",
    "    autopilot_train_s3_uri, # input data path\n",
    "    job_name=auto_ml_job_name, # Autopilot job name\n",
    "    wait=False, logs=False)\n",
    "\n",
    "#track the processing job \n",
    "from IPython.core.display import display, HTML\n",
    "display(HTML('<b>Review <a target=\"blank\" href=\"https://console.aws.amazon.com/sagemaker/home?region={}#/processing-jobs/\">processing jobs</a></b>'.format(region)))"
   ]
  },
  {
   "cell_type": "markdown",
   "id": "f6ddbb2d-f0de-4304-a5fa-bd3189af7441",
   "metadata": {},
   "source": [
    "## Track the auto pilot jobs statues"
   ]
  },
  {
   "cell_type": "code",
   "execution_count": 18,
   "id": "9d599aac-77ab-41f5-bd3b-b30cc79e85c3",
   "metadata": {},
   "outputs": [
    {
     "name": "stdout",
     "output_type": "stream",
     "text": [
      "[OK] AutoML job started.\n"
     ]
    }
   ],
   "source": [
    "#TRACK AUTOPILOT JOBs\n",
    "job_description_response = automl.describe_auto_ml_job(job_name=auto_ml_job_name)#returns the information about the AutoML job in dictionary format. review the response syntax and response elements in https://docs.aws.amazon.com/sagemaker/latest/APIReference/API_DescribeAutoMLJob.html\n",
    "#To track the job progress you can use two response elements: AutoMLJobStatus and AutoMLJobSecondaryStatus, which correspond to the primary (Completed | InProgress | Failed | Stopped | Stopping) and secondary (AnalyzingData | FeatureEngineering | ModelTuning etc.) job states respectively. To see if the AutoML job has started, you can check the existence of the AutoMLJobStatus and AutoMLJobSecondaryStatus elements in the job description response.\n",
    "\n",
    "# check if the job is started else print the progress\n",
    "while 'AutoMLJobStatus' not in job_description_response.keys() and 'AutoMLJobSecondaryStatus' not in job_description_response.keys():\n",
    "    job_description_response = automl.describe_auto_ml_job(job_name=auto_ml_job_name)\n",
    "    print('[INFO] Autopilot job has not yet started. Please wait. ')\n",
    "    # function `json.dumps` encodes JSON string for printing.\n",
    "    print(json.dumps(job_description_response, indent=4, sort_keys=True, default=str))\n",
    "    print('[INFO] Waiting for Autopilot job to start...')\n",
    "    sleep(15)\n",
    "\n",
    "print('[OK] AutoML job started.')"
   ]
  },
  {
   "cell_type": "code",
   "execution_count": 20,
   "id": "78f72e7d-8c3c-4c16-a598-77cace426ad0",
   "metadata": {},
   "outputs": [
    {
     "data": {
      "text/html": [
       "<b>Review <a target=\"blank\" href=\"https://console.aws.amazon.com/sagemaker/home?region=us-east-1#/processing-jobs/\">processing jobs</a></b>"
      ],
      "text/plain": [
       "<IPython.core.display.HTML object>"
      ]
     },
     "metadata": {},
     "output_type": "display_data"
    }
   ],
   "source": [
    "# The Autopilot creates required SageMaker processing jobs during the run:\n",
    "# First processing job (data splitter) checks the data sanity, performs stratified shuffling and splits the data into training and validation.\n",
    "# Second processing job (candidate generator) first streams through the data to compute statistics for the dataset. Then, uses these statistics to identify the problem type, and possible types of every column-predictor: numeric, categorical, natural language, etc.\n",
    "#to check the completion of the data analysis step:\n",
    "%%time\n",
    "\n",
    "job_status = job_description_response['AutoMLJobStatus']\n",
    "job_sec_status = job_description_response['AutoMLJobSecondaryStatus']\n",
    "\n",
    "if job_status not in ('Stopped', 'Failed'):\n",
    "    while job_status in ('InProgress') and job_sec_status in ('Starting', 'AnalyzingData'):\n",
    "        job_description_response = automl.describe_auto_ml_job(job_name=auto_ml_job_name)\n",
    "        job_status = job_description_response['AutoMLJobStatus']\n",
    "        job_sec_status = job_description_response['AutoMLJobSecondaryStatus']\n",
    "        print(job_status, job_sec_status)\n",
    "        time.sleep(15)\n",
    "    print('[OK] Data analysis phase completed.\\n')\n",
    "    \n",
    "print(json.dumps(job_description_response, indent=4, sort_keys=True, default=str))"
   ]
  },
  {
   "cell_type": "code",
   "execution_count": 22,
   "id": "5af4b280-5a96-4a02-9c7f-76cc00670304",
   "metadata": {},
   "outputs": [
    {
     "name": "stdout",
     "output_type": "stream",
     "text": [
      "[OK] AutoMLJobArtifacts generated.\n"
     ]
    }
   ],
   "source": [
    "#Once data analysis is complete, SageMaker AutoPilot generates two notebooks: Data exploration, Candidate definition\n",
    "#To check if the Autopilot job artifacts have been generated:\n",
    "\n",
    "job_description_response = automl.describe_auto_ml_job(job_name=auto_ml_job_name) # Replace None\n",
    "while \"AutoMLJobArtifacts\" not in job_description_response.keys():\n",
    "    job_description_response = None # Replace None\n",
    "    print('[INFO] Autopilot job has not yet generated the artifacts. Please wait. ')\n",
    "    print(json.dumps(job_description_response, indent=4, sort_keys=True, default=str))\n",
    "    print('[INFO] Waiting for AutoMLJobArtifacts...')\n",
    "    time.sleep(15)\n",
    "\n",
    "print('[OK] AutoMLJobArtifacts generated.')"
   ]
  },
  {
   "cell_type": "code",
   "execution_count": 24,
   "id": "c71b6426-b680-4fc8-af39-100b11f975e4",
   "metadata": {},
   "outputs": [
    {
     "name": "stdout",
     "output_type": "stream",
     "text": [
      "[OK] DataExplorationNotebookLocation found.\n"
     ]
    }
   ],
   "source": [
    "#Check if the notebooks have been created.\n",
    "job_description_response = automl.describe_auto_ml_job(job_name=auto_ml_job_name) # Replace None\n",
    "\n",
    "while \"DataExplorationNotebookLocation\" not in job_description_response['AutoMLJobArtifacts'].keys():\n",
    "    # update the information about the running Autopilot job\n",
    "    job_description_response = automl.describe_auto_ml_job(job_name=auto_ml_job_name) \n",
    "\n",
    "    print('[INFO] Autopilot job has not yet generated the notebooks. Please wait. ')\n",
    "    print(json.dumps(job_description_response, indent=4, sort_keys=True, default=str))\n",
    "    print('[INFO] Waiting for DataExplorationNotebookLocation...')\n",
    "    time.sleep(15)\n",
    "\n",
    "print('[OK] DataExplorationNotebookLocation found.')  "
   ]
  },
  {
   "cell_type": "code",
   "execution_count": 25,
   "id": "dae540e9-ebe9-494c-b401-186e4daa02c3",
   "metadata": {},
   "outputs": [
    {
     "data": {
      "text/html": [
       "<b>Review <a target=\"blank\" href=\"https://s3.console.aws.amazon.com/s3/buckets/sagemaker-us-east-1-170235698766/autopilot/automl-dm-1658757503/sagemaker-automl-candidates/automl-dm-1658757503-pr-1-b0647516ac3e4566b35f728f55028903c8f32/\">generated notebooks</a> in S3 bucket</b>"
      ],
      "text/plain": [
       "<IPython.core.display.HTML object>"
      ]
     },
     "metadata": {},
     "output_type": "display_data"
    }
   ],
   "source": [
    "#Review the generated resources in S3 directly\n",
    "\n",
    "from IPython.core.display import display, HTML\n",
    "generated_resources = job_description_response['AutoMLJobArtifacts']['DataExplorationNotebookLocation']\n",
    "download_path = generated_resources.rsplit('/notebooks/SageMakerAutopilotDataExplorationNotebook.ipynb')[0]\n",
    "job_id = download_path.rsplit('/', 1)[-1]\n",
    "if not job_id: \n",
    "    print('No AutoMLJobArtifacts found.')\n",
    "else: \n",
    "    display(HTML('<b>Review <a target=\"blank\" href=\"https://s3.console.aws.amazon.com/s3/buckets/{}/autopilot/{}/sagemaker-automl-candidates/{}/\">generated notebooks</a> in S3 bucket</b>'.format(bucket, auto_ml_job_name, job_id)))"
   ]
  },
  {
   "cell_type": "code",
   "execution_count": null,
   "id": "c044ffc2-a9f6-4cb7-98b2-8ecd9ae29397",
   "metadata": {},
   "outputs": [],
   "source": [
    "#Check the completion of the feature engineering step.\n",
    "\n",
    "#%%time\n",
    "job_description_response = automl.describe_auto_ml_job(job_name=auto_ml_job_name)\n",
    "job_status = job_description_response['AutoMLJobStatus']\n",
    "job_sec_status = job_description_response['AutoMLJobSecondaryStatus']\n",
    "print(job_status)\n",
    "print(job_sec_status)\n",
    "if job_status not in ('Stopped', 'Failed'):\n",
    "    while job_status == 'InProgress' and job_sec_status == \"FeatureEngineering\": # Replace all None\n",
    "        job_description_response = automl.describe_auto_ml_job(job_name=auto_ml_job_name)\n",
    "        job_status = job_description_response['AutoMLJobStatus']\n",
    "        job_sec_status = job_description_response['AutoMLJobSecondaryStatus']\n",
    "        print(job_status, job_sec_status)\n",
    "        time.sleep(5)\n",
    "    print('[OK] Feature engineering phase completed.\\n')\n",
    "print(json.dumps(job_description_response, indent=4, sort_keys=True, default=str))"
   ]
  },
  {
   "cell_type": "code",
   "execution_count": 28,
   "id": "4b5e2aad-b1a0-4638-b6a1-7b468e8e7bff",
   "metadata": {},
   "outputs": [
    {
     "data": {
      "text/html": [
       "<b>Review <a target=\"blank\" href=\"https://console.aws.amazon.com/sagemaker/home?region=us-east-1#/hyper-tuning-jobs/\">hyper-parameter tuning jobs</a></b>"
      ],
      "text/plain": [
       "<IPython.core.display.HTML object>"
      ]
     },
     "metadata": {},
     "output_type": "display_data"
    }
   ],
   "source": [
    "#view the HP tuning job here\n",
    "from IPython.core.display import display, HTML\n",
    "display(HTML('<b>Review <a target=\"blank\" href=\"https://console.aws.amazon.com/sagemaker/home?region={}#/hyper-tuning-jobs/\">hyper-parameter tuning jobs</a></b>'.format(region)))\n"
   ]
  },
  {
   "cell_type": "code",
   "execution_count": null,
   "id": "34bba48a-5af8-4254-a82f-9763f6f41cae",
   "metadata": {},
   "outputs": [],
   "source": [
    "#Check the completion of the model tuning step.\n",
    "#%%time\n",
    "job_description_response = automl.describe_auto_ml_job(job_name=auto_ml_job_name)\n",
    "job_status = job_description_response['AutoMLJobStatus']\n",
    "job_sec_status = job_description_response['AutoMLJobSecondaryStatus']\n",
    "print(job_status)\n",
    "print(job_sec_status)\n",
    "if job_status not in ('Stopped', 'Failed'):\n",
    "    while job_status == \"InProgress\" and job_sec_status == \"ModelTuning\":\n",
    "        job_description_response = automl.describe_auto_ml_job(job_name=auto_ml_job_name)\n",
    "        job_status = job_description_response['AutoMLJobStatus']\n",
    "        job_sec_status = job_description_response['AutoMLJobSecondaryStatus']\n",
    "        print(job_status, job_sec_status)\n",
    "        time.sleep(5)\n",
    "    print('[OK] Model tuning phase completed.\\n')\n",
    "    \n",
    "print(json.dumps(job_description_response, indent=4, sort_keys=True, default=str))"
   ]
  },
  {
   "cell_type": "code",
   "execution_count": null,
   "id": "0a7c0bfb-e49a-4ad2-a7ed-104eaae1f19d",
   "metadata": {},
   "outputs": [],
   "source": [
    "#check the completion of the Autopilot job looking for the Completed job status.\n",
    "#%%time\n",
    "\n",
    "from pprint import pprint\n",
    "\n",
    "job_description_response = automl.describe_auto_ml_job(job_name=auto_ml_job_name)\n",
    "pprint(job_description_response)\n",
    "job_status = job_description_response['AutoMLJobStatus']\n",
    "job_sec_status = job_description_response['AutoMLJobSecondaryStatus']\n",
    "print('Job status:  {}'.format(job_status))\n",
    "print('Secondary job status:  {}'.format(job_sec_status))\n",
    "if job_status not in ('Stopped', 'Failed'):\n",
    "    while job_status not in ('Completed'):\n",
    "        job_description_response = automl.describe_auto_ml_job(job_name=auto_ml_job_name)\n",
    "        job_status = job_description_response['AutoMLJobStatus']\n",
    "        job_sec_status = job_description_response['AutoMLJobSecondaryStatus']\n",
    "        print('Job status:  {}'.format(job_status))\n",
    "        print('Secondary job status:  {}'.format(job_sec_status))        \n",
    "        time.sleep(10)\n",
    "    print('[OK] Autopilot job completed.\\n')\n",
    "else:\n",
    "    print('Job status: {}'.format(job_status))\n",
    "    print('Secondary job status: {}'.format(job_status))"
   ]
  },
  {
   "cell_type": "code",
   "execution_count": 36,
   "id": "4a6d3adb-cec4-44ce-b77a-72300f0871a8",
   "metadata": {},
   "outputs": [
    {
     "name": "stdout",
     "output_type": "stream",
     "text": [
      "[INFO] Autopilot job is generating the candidates. Please wait.\n",
      "[OK] Candidates generated.\n"
     ]
    }
   ],
   "source": [
    "#Once model tuning is complete, you can view all the candidates (pipeline evaluations with different hyperparameter combinations) that were explored by AutoML and sort them by their final performance metric.\n",
    "# CANDIDATE EXISTANCE CHECK:\n",
    "candidates = []\n",
    "while candidates == []:\n",
    "    candidates = automl.list_candidates(job_name=auto_ml_job_name)\n",
    "    print('[INFO] Autopilot job is generating the candidates. Please wait.')\n",
    "    time.sleep(10)\n",
    "\n",
    "print('[OK] Candidates generated.')\n",
    "\n",
    "#You can review the response syntax and response elements of the function list_candidates in the https://docs.aws.amazon.com/sagemaker/latest/APIReference/API_AutoMLCandidate.html \n",
    "\n",
    "#List candidates generated by Autopilot sorted by accuracy from highest to lowest:\n",
    "candidates = automl.list_candidates(\n",
    "    job_name= auto_ml_job_name, # Autopilot job name\n",
    "    sort_by=\"FinalObjectiveMetricValue\") # accuracy field name\n"
   ]
  },
  {
   "cell_type": "code",
   "execution_count": null,
   "id": "185151de-7109-49f7-aea6-09e28a254a62",
   "metadata": {},
   "outputs": [],
   "source": [
    "#CandidateName contains the candidate name and the FinalAutoMLJobObjectiveMetric element contains the metric information which can be used to identify the best candidate later. Let's check that they were generated.\n",
    "\n",
    "#check candidateName and FinalAutoMLJobObjectiveMetric element in cadidates\n",
    "while 'CandidateName' not in candidates[0]:\n",
    "    candidates = automl.list_candidates(job_name=auto_ml_job_name)\n",
    "    print('[INFO] Autopilot job is generating CandidateName. Please wait. ')\n",
    "    sleep(10)\n",
    "print('[OK] CandidateName generated.')\n",
    "\n",
    "while 'FinalAutoMLJobObjectiveMetric' not in candidates[0]:\n",
    "    candidates = automl.list_candidates(job_name=auto_ml_job_name)\n",
    "    print('[INFO] Autopilot job is generating FinalAutoMLJobObjectiveMetric. Please wait. ')\n",
    "    sleep(10)\n",
    "print('[OK] FinalAutoMLJobObjectiveMetric generated.')\n",
    "\n",
    "#print the names of the candidates with their metric values\n",
    "print(json.dumps(candidates, indent=4, sort_keys=True, default=str))\n",
    "print(\"metric \" + str(candidates[0]['FinalAutoMLJobObjectiveMetric']['MetricName']))\n",
    "\n",
    "for index, candidate in enumerate(candidates):\n",
    "    print(str(index) + \"  \" \n",
    "        + candidate['CandidateName'] + \"  \" \n",
    "        + str(candidate['FinalAutoMLJobObjectiveMetric']['Value']))"
   ]
  },
  {
   "cell_type": "markdown",
   "id": "e909217e-32ec-4842-a467-1537388d1273",
   "metadata": {},
   "source": [
    "## Review best candidate"
   ]
  },
  {
   "cell_type": "code",
   "execution_count": null,
   "id": "7778cfce-0255-4ea2-99ed-335566df47b1",
   "metadata": {},
   "outputs": [],
   "source": [
    "#Now that you have successfully completed the Autopilot job on the dataset and visualized the trials, you can get the information about the best candidate model and review it.\n",
    "candidates = automl.list_candidates(job_name=auto_ml_job_name)\n",
    "\n",
    "if candidates != []:\n",
    "    best_candidate = automl.best_candidate(job_name=auto_ml_job_name)\n",
    "    print(json.dumps(best_candidate, indent=4, sort_keys=True, default=str))\n",
    "best_candidate_identifier = best_candidate['CandidateName']\n",
    "print(\"Candidate name: \" + best_candidate_identifier)\n",
    "print(\"Metric name: \" + best_candidate['FinalAutoMLJobObjectiveMetric']['MetricName'])\n",
    "print(\"Metric value: \" + str(best_candidate['FinalAutoMLJobObjectiveMetric']['Value']))\n",
    "\n",
    "#Review all output in S3 bucket\n",
    "from IPython.core.display import display, HTML\n",
    "display(HTML('<b>Review all <a target=\"blank\" href=\"https://s3.console.aws.amazon.com/s3/buckets/{}?region={}&prefix=autopilot/{}/\">output in S3</a></b>'.format(   bucket, region, auto_ml_job_name)))"
   ]
  },
  {
   "cell_type": "markdown",
   "id": "02ef1ffa-fabf-4739-a4ec-e16633424da0",
   "metadata": {},
   "source": [
    "## Deploy and test best candidate model"
   ]
  },
  {
   "cell_type": "code",
   "execution_count": 46,
   "id": "a06b5ef0-85d8-4922-aa0d-d4ce81c8d1dd",
   "metadata": {},
   "outputs": [
    {
     "name": "stdout",
     "output_type": "stream",
     "text": [
      "---------------!\n",
      "Endpoint name:  sagemaker-sklearn-automl-2022-07-25-15-42-57-738\n"
     ]
    }
   ],
   "source": [
    "#While batch transformations are supported, you will deploy our model as a REST Endpoint in this example.\n",
    "\n",
    "#customize the inference response.\n",
    "inference_response_keys = ['predicted_label', 'probability']\n",
    "\n",
    "#create a SageMaker endpoint\n",
    "autopilot_model = automl.deploy(initial_instance_count=1,instance_type='ml.m5.large',\n",
    "    candidate=best_candidate, inference_response_keys=inference_response_keys,\n",
    "    predictor_cls=sagemaker.predictor.Predictor, serializer=sagemaker.serializers.JSONSerializer(),\n",
    "    deserializer=sagemaker.deserializers.JSONDeserializer())\n",
    "print('\\nEndpoint name:  {}'.format(autopilot_model.endpoint_name))\n",
    "\n",
    "#Review the SageMaker endpoint in the AWS console\n",
    "from IPython.core.display import display, HTML\n",
    "display(HTML('<b>Review <a target=\"blank\" href=\"https://console.aws.amazon.com/sagemaker/home?region={}#/endpoints/{}\">SageMaker REST endpoint</a></b>'.format(region, autopilot_model.endpoint_name)))"
   ]
  },
  {
   "cell_type": "code",
   "execution_count": 51,
   "id": "de59c174-6990-46ca-b617-1a21aa69a237",
   "metadata": {},
   "outputs": [
    {
     "name": "stdout",
     "output_type": "stream",
     "text": [
      "Review:  This product is never been good!  Predicated class: -1\n",
      "Review:  OK but not great.  Predicated class: 0\n",
      "Review:  This is not the right product.  Predicated class: -1\n",
      "(-1 = Negative, 0=Neutral, 1=Positive)\n"
     ]
    }
   ],
   "source": [
    "#Test the model\n",
    "#sm_runtime = boto3.client('sagemaker-runtime')\n",
    "\n",
    "review_list = ['This product is never been good!','OK, but not great.','This is not the right product.']\n",
    "\n",
    "for review in review_list:\n",
    "    # remove commas from the review since we're passing the inputs as a CSV\n",
    "    review = review.replace(\",\", \"\")\n",
    "\n",
    "    response = sm_runtime.invoke_endpoint(\n",
    "        EndpointName=autopilot_model.endpoint_name, # endpoint name\n",
    "        ContentType='text/csv', # type of input data\n",
    "        Accept='text/csv', # type of the inference in the response\n",
    "        Body=review) # review text\n",
    "\n",
    "    response_body=response['Body'].read().decode('utf-8').strip().split(',')\n",
    "\n",
    "    print('Review: ', review, ' Predicated class: {}'.format(response_body[0]))\n",
    "\n",
    "print(\"(-1 = Negative, 0=Neutral, 1=Positive)\")"
   ]
  },
  {
   "cell_type": "code",
   "execution_count": null,
   "id": "75ad0a40-f04c-4379-b396-4bf3bdc1f33d",
   "metadata": {},
   "outputs": [],
   "source": []
  }
 ],
 "metadata": {
  "instance_type": "ml.t3.medium",
  "kernelspec": {
   "display_name": "Python 3 (Data Science)",
   "language": "python",
   "name": "python3__SAGEMAKER_INTERNAL__arn:aws:sagemaker:us-east-1:081325390199:image/datascience-1.0"
  },
  "language_info": {
   "codemirror_mode": {
    "name": "ipython",
    "version": 3
   },
   "file_extension": ".py",
   "mimetype": "text/x-python",
   "name": "python",
   "nbconvert_exporter": "python",
   "pygments_lexer": "ipython3",
   "version": "3.7.10"
  }
 },
 "nbformat": 4,
 "nbformat_minor": 5
}
